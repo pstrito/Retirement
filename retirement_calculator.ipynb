{
 "cells": [
  {
   "cell_type": "markdown",
   "metadata": {},
   "source": [
    "This program give information on how much one will need to retire."
   ]
  },
  {
   "cell_type": "code",
   "execution_count": 1,
   "metadata": {},
   "outputs": [],
   "source": [
    "import pandas as pd\n",
    "import numpy as np\n",
    "import time"
   ]
  },
  {
   "cell_type": "code",
   "execution_count": 10,
   "metadata": {},
   "outputs": [],
   "source": [
    "###################################################\n",
    "# METHODS\n",
    "###################################################\n",
    "\n",
    "def init_df():\n",
    "    df = pd.DataFrame(columns= ['APR', 'Year Number', 'Starting Balance', \n",
    "                                'Ending Balance', 'Additional Premium'])\n",
    "    return df\n",
    "\n",
    "def impact_years_compounding(df, starting_principle, yrs, apr, additional_premium, \n",
    "                             years_to_retire, how_much_needed_at_retirement):\n",
    "    yr = 1\n",
    "    while yr <= yrs: #calculates compounding across multiple years\n",
    "        \n",
    "        if yr < years_to_retire:\n",
    "            debit = 0\n",
    "        else:\n",
    "            debit = -how_much_needed_at_retirement\n",
    "            \n",
    "        final_principle, apr = impact_range_of_annual_percentage_rates(starting_principle, \n",
    "                                                                       apr, additional_premium, \n",
    "                                                                       debit)\n",
    "        \n",
    "        \n",
    "        \n",
    "        df = df.append({'APR': apr, 'Year Number': yr, 'Starting Balance': starting_principle, \n",
    "                        'Ending Balance': final_principle, 'Additional Premium' : additional_premium, \n",
    "                        'Debit' : debit} , ignore_index = True)\n",
    "        \n",
    "        starting_principle = final_principle\n",
    "        \n",
    "        yr += 1\n",
    "        \n",
    "    return df\n",
    "    \n",
    "\n",
    "def impact_range_of_annual_percentage_rates(starting_principle, apr, additional_premium, \n",
    "                                            debit): #\n",
    "        \n",
    "        final_principle, apr = annual_by_month_compound(starting_principle , apr, \n",
    "                                                        additional_premium, debit) #ending principle after 1 year\n",
    "        '''print('Your starting principle was: ', how_much_saved)\n",
    "        print('The annual interest rate (APR) is: ', apr, '%')\n",
    "        print('The annualized final principle amortized monthly is: ', final_principle, '\\n')\n",
    "        '''\n",
    "        return final_principle , apr #output is the final principle from apr/12 interest compounded montly for 1 year\n",
    "        \n",
    "def annual_by_month_compound(how_much_saved, apr, additional_principle, debit): #interest rate compounded monthly for one year\n",
    "    mpr = apr/1200 # APR divided by 12 to get monthly interest rate\n",
    "    #print('mpr = ', mpr)\n",
    "    month = 1    \n",
    "    new_principle = float(how_much_saved)\n",
    "    #print('new_principle = ', new_principle, '\\n')\n",
    "    while month < 13:\n",
    "        gain_from_interest_on_principle = new_principle * mpr\n",
    "        #print('gain_from_interest_on_principle =', gain_from_interest_on_principle)\n",
    "        new_principle = new_principle + gain_from_interest_on_principle + additional_principle/12 + debit/12\n",
    "        month += 1\n",
    "    return new_principle, apr\n",
    "\n"
   ]
  },
  {
   "cell_type": "code",
   "execution_count": 16,
   "metadata": {
    "scrolled": true
   },
   "outputs": [
    {
     "name": "stdout",
     "output_type": "stream",
     "text": [
      "In how many years do you plan to retire? 5\n",
      "How much per year will you need at retirement? 50\n",
      "How much have you saved for retirement right now? [in thousands]200\n",
      "How much Social Security benefits will you get at retirement? 15\n",
      "How much other passive income will you get at retirement? 10\n",
      "What is the annualized percent return? 15\n",
      "How long will you be getting this interest? 15\n",
      "How much will you be adding to your retirement savings per year? 10\n",
      "     APR  Year Number  Starting Balance  Ending Balance  Additional Premium  \\\n",
      "0   15.0          1.0        200.000000      242.867871                10.0   \n",
      "1   15.0          2.0        242.867871      292.626947                10.0   \n",
      "2   15.0          3.0        292.626947      350.385018                10.0   \n",
      "3   15.0          4.0        350.385018      417.427961                10.0   \n",
      "4   15.0          5.0        417.427961      441.663520                10.0   \n",
      "5   15.0          6.0        441.663520      469.795055                10.0   \n",
      "6   15.0          7.0        469.795055      502.448861                10.0   \n",
      "7   15.0          8.0        502.448861      540.351914                10.0   \n",
      "8   15.0          9.0        540.351914      584.348054                10.0   \n",
      "9   15.0         10.0        584.348054      635.416772                10.0   \n",
      "10  15.0         11.0        635.416772      694.695017                10.0   \n",
      "11  15.0         12.0        694.695017      763.502508                10.0   \n",
      "12  15.0         13.0        763.502508      843.371114                10.0   \n",
      "13  15.0         14.0        843.371114      936.078959                10.0   \n",
      "14  15.0         15.0        936.078959     1043.690010                10.0   \n",
      "\n",
      "    Debit  \n",
      "0     0.0  \n",
      "1     0.0  \n",
      "2     0.0  \n",
      "3     0.0  \n",
      "4   -50.0  \n",
      "5   -50.0  \n",
      "6   -50.0  \n",
      "7   -50.0  \n",
      "8   -50.0  \n",
      "9   -50.0  \n",
      "10  -50.0  \n",
      "11  -50.0  \n",
      "12  -50.0  \n",
      "13  -50.0  \n",
      "14  -50.0  \n"
     ]
    }
   ],
   "source": [
    "#########################################\n",
    "# MAIN #\n",
    "#########################################\n",
    "\n",
    "# Variable definition\n",
    "\n",
    "years_to_retire = int(input('In how many years do you plan to retire? '))\n",
    "how_much_needed_at_retirement = float(input('How much per year will you need at retirement? '))\n",
    "starting_principle = float(input('How much have you saved for retirement right now? [in thousands]'))\n",
    "how_much_ss_at_retirement = input('How much Social Security benefits will you get at retirement? ')\n",
    "how_much_other_passive_income = float(input('How much other passive income will you get at retirement? '))\n",
    "apr = float(input('What is the annualized percent return? '))\n",
    "yrs = int(input('How long will you be getting this interest? '))\n",
    "additional_premium = float(input('How much will you be adding to your retirement savings per year? '))\n",
    "\n",
    "df = init_df()\n",
    "\n",
    "df = impact_years_compounding(df, starting_principle, yrs, apr, additional_premium, \n",
    "                             years_to_retire, how_much_needed_at_retirement)\n",
    "\n",
    "print(df)\n",
    "\n"
   ]
  },
  {
   "cell_type": "code",
   "execution_count": null,
   "metadata": {},
   "outputs": [],
   "source": []
  },
  {
   "cell_type": "code",
   "execution_count": null,
   "metadata": {},
   "outputs": [],
   "source": [
    "print(df)"
   ]
  },
  {
   "cell_type": "code",
   "execution_count": null,
   "metadata": {},
   "outputs": [],
   "source": []
  },
  {
   "cell_type": "code",
   "execution_count": null,
   "metadata": {},
   "outputs": [],
   "source": []
  },
  {
   "cell_type": "code",
   "execution_count": null,
   "metadata": {},
   "outputs": [],
   "source": []
  },
  {
   "cell_type": "code",
   "execution_count": null,
   "metadata": {},
   "outputs": [],
   "source": []
  },
  {
   "cell_type": "code",
   "execution_count": null,
   "metadata": {},
   "outputs": [],
   "source": []
  },
  {
   "cell_type": "code",
   "execution_count": null,
   "metadata": {},
   "outputs": [],
   "source": []
  },
  {
   "cell_type": "code",
   "execution_count": null,
   "metadata": {},
   "outputs": [],
   "source": [
    "df = pd.DataFrame(columns= ['APR', 'Years', 'Starting Balance', 'Ending Balance'])\n",
    "list(df.columns)"
   ]
  },
  {
   "cell_type": "code",
   "execution_count": null,
   "metadata": {},
   "outputs": [],
   "source": []
  },
  {
   "cell_type": "code",
   "execution_count": null,
   "metadata": {},
   "outputs": [],
   "source": []
  },
  {
   "cell_type": "code",
   "execution_count": null,
   "metadata": {},
   "outputs": [],
   "source": []
  },
  {
   "cell_type": "code",
   "execution_count": null,
   "metadata": {},
   "outputs": [],
   "source": []
  },
  {
   "cell_type": "code",
   "execution_count": null,
   "metadata": {},
   "outputs": [],
   "source": []
  },
  {
   "cell_type": "code",
   "execution_count": null,
   "metadata": {},
   "outputs": [],
   "source": [
    "i = 0\n",
    "\n",
    "while i < 5:\n",
    "        \n",
    "    APR = i\n",
    "    Years = i\n",
    "    S = i\n",
    "    B = i \n",
    "    \n",
    "    df = df.append({'APR': APR, 'Years': Years, 'Starting Balance': S, 'Ending Balance': B} , ignore_index = True)\n",
    "\n",
    "    i += 1\n",
    "        \n",
    "print(df)"
   ]
  },
  {
   "cell_type": "code",
   "execution_count": null,
   "metadata": {},
   "outputs": [],
   "source": [
    "print(df)"
   ]
  },
  {
   "cell_type": "code",
   "execution_count": null,
   "metadata": {},
   "outputs": [],
   "source": [
    "df = pd.DataFrame(columns=['A'])\n",
    "for i in range(5):\n",
    "    df = df.append({'A': i}, ignore_index=True)\n",
    "df"
   ]
  }
 ],
 "metadata": {
  "kernelspec": {
   "display_name": "Python 3",
   "language": "python",
   "name": "python3"
  },
  "language_info": {
   "codemirror_mode": {
    "name": "ipython",
    "version": 3
   },
   "file_extension": ".py",
   "mimetype": "text/x-python",
   "name": "python",
   "nbconvert_exporter": "python",
   "pygments_lexer": "ipython3",
   "version": "3.7.4"
  }
 },
 "nbformat": 4,
 "nbformat_minor": 2
}
