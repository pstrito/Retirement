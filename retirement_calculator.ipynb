{
 "cells": [
  {
   "cell_type": "markdown",
   "metadata": {},
   "source": [
    "This program give information on how much one will need to retire.\n",
    "\n",
    "add inflation\n",
    "add tax estimate\n",
    "add statistics - monte carlo analysis\n",
    "add graphics\n",
    "\n",
    "answers question - when will a person run out of money\n",
    "                 - how much will they need to save not so they won't run out of money\n",
    "                 - how long will they have to delay retirement so they won't run out of money\n",
    "                 - how much will they will have to reduce their need so they won't run out of money\n",
    "                \n",
    "                \n"
   ]
  },
  {
   "cell_type": "code",
   "execution_count": 2,
   "metadata": {},
   "outputs": [],
   "source": [
    "import pandas as pd\n",
    "import numpy as np\n",
    "import time"
   ]
  },
  {
   "cell_type": "code",
   "execution_count": 70,
   "metadata": {},
   "outputs": [],
   "source": [
    "###################################################\n",
    "# METHODS\n",
    "###################################################\n",
    "\n",
    "#inputs all of the needed information and return a list\n",
    "def var_input():\n",
    "    \n",
    "    variables = []\n",
    "    variable_names = []\n",
    "    \n",
    "    #time to retirement\n",
    "    years_to_retire = int(input('In how many years do you plan to retire? '))\n",
    "    \n",
    "    #amount needed at retirement\n",
    "    how_much_needed_at_retirement = float(input('How much per year will you need at retirement? '))\n",
    "    \n",
    "    #current retirement savings\n",
    "    starting_principle = float(input('How much have you saved for retirement right now? [in thousands]'))\n",
    "        \n",
    "    #income after retirment\n",
    "    how_much_ss_at_retirement = float(input('How much Social Security benefits per year will you get at retirement? '))\n",
    "    how_much_other_passive_income = float(input('How much other passive income per year will you get at retirement? '))\n",
    "    \n",
    "    #return on retirement savings\n",
    "    investment_apr = float(input('What is the annualized percent return on your retirement saving before retiring? '))\n",
    "\n",
    "    #life expectance after retirement\n",
    "    yrs_to_death = input('How long will you need retirement income? [press enter if you want 20 yrs.]')\n",
    "    if yrs_to_death:\n",
    "        yrs_to_death = float(yrs_to_death)\n",
    "    else:\n",
    "        yrs_to_death = float(20)\n",
    "        print('Based on your input you will need your retirement income for ', yrs_to_death, 'years.')\n",
    "    \n",
    "    #contribution to retirement savings before retiring    \n",
    "    additional_principle = float(input('How much will you be adding to your retirement savings per year before retiring? '))\n",
    "\n",
    "    #inflation rate\n",
    "    inflation = input('What is the inflation rate per year? [press enter if you want 3%.]')\n",
    "    if inflation:\n",
    "        inflation = float(inflation)\n",
    "    else:\n",
    "        inflation = float(3)\n",
    "        print('Based on your input the inflation rate is', inflation, '%.')\n",
    "\n",
    "    #tax rate\n",
    "    tax_rate = input('Based on what you will need, what will be your tax rate? [press enter if you want to assume 25% for both state and federal taxes.]')\n",
    "    if tax_rate:\n",
    "        tax_rate = float(tax_rate)\n",
    "    else:\n",
    "        tax_rate = float(25)\n",
    "        print('Based on your input your overall income tax rate is', tax_rate, '%.')\n",
    "        \n",
    "\n",
    "    final_principle = float(0)\n",
    "    \n",
    "    variables = [years_to_retire, how_much_needed_at_retirement, starting_principle,\n",
    "                 how_much_ss_at_retirement, how_much_other_passive_income, investment_apr,\n",
    "                 yrs_to_death, additional_principle, inflation, tax_rate, final_principle]\n",
    "    \n",
    "    variable_names = ['years_to_retire', 'how_much_needed_at_retirement', 'starting_principle',\n",
    "                 'how_much_ss_at_retirement', 'how_much_other_passive_income', 'investment_apr',\n",
    "                 'yrs_to_death', 'additional_principle', 'inflation', 'tax_rate', \n",
    "                 'final_principle']\n",
    "    ''' \n",
    "    legend \n",
    "        variables[0] = years_to_retire \n",
    "        variables[1] = how_much_needed_at_retirement\n",
    "        variables[2] = starting_principle\n",
    "        variables[3] = how_much_ss_at_retirement\n",
    "        variables[4] = how_much_other_passive_income\n",
    "        variables[5] = investment_apr \n",
    "        variables[6] = yrs_to_death\n",
    "        variables[7] = additional_principle\n",
    "        variables[8] = inflation\n",
    "        variables[9] = tax_rate\n",
    "        variables[10] = final_principle\n",
    "    '''\n",
    "        \n",
    "    return variables, variable_names\n",
    "\n",
    "#initializes the dataframe\n",
    "def init_df():\n",
    "    \n",
    "    variables, variable_names = var_input()\n",
    "    df = pd.DataFrame(columns= [variable_names]) #creates the df using variable_names list\n",
    "    \n",
    "    return df, variables, variable_names\n",
    "\n",
    "#determines the amount of gain over entirement retirement period (retirement to death)\n",
    "def impact_years_compounding(variables, df):\n",
    "    yr = 1\n",
    "    starting_principle = variables[2]\n",
    "    while yr <= variables[6]: #calculates compounding across multiple years\n",
    "        if yr > variables[0] :#ends additional contribution to retirement at the start of retirement    \n",
    "            additional_principle = 0\n",
    "        else:\n",
    "            additional_principle = variables[7]\n",
    "          \n",
    "        if yr < variables[0]: #years_to_retire: starts retirement debit at the start of retirement\n",
    "            debit = 0\n",
    "        else:\n",
    "            debit = -variables[1] #how_much_needed_at_retirement\n",
    "            \n",
    "        final_principle, apr = annual_by_month_compound(variables, starting_principle, \n",
    "                                                        additional_principle, debit)\n",
    "        \n",
    "        '''df = df.append({'APR': apr, 'Year Number': yr, 'Starting Balance': starting_principle, \n",
    "                            'Ending Balance': final_principle, 'Additional Premium' : additional_premium, \n",
    "                            'Debit' : debit} , ignore_index = True)'''\n",
    "        \n",
    "        '''df = df.append({'years_to_retire': variables[0], \n",
    "                        'how_much_needed_at_retirement' : debit, \n",
    "                        'starting_principle': variables[2],\n",
    "                        'how_much_ss_at_retirement': variables[3], \n",
    "                        'how_much_other_passive_income': variables[4], \n",
    "                        'investment_apr': variables[5],\n",
    "                        'yrs_to_death': variables[6], \n",
    "                        'additional_principle': additional_principle, \n",
    "                        'inflation': variables[8], \n",
    "                        'tax_rate': variables[9], \n",
    "                        'final_principle': final_principle}, \n",
    "                        ignore_index = True)                '''\n",
    "        \n",
    "        df = df.append({variable_names[0]: variables[0], \n",
    "                        variable_names[1] : debit, \n",
    "                        variable_names[2]: variables[2],\n",
    "                        variable_names[3]: variables[3], \n",
    "                        variable_names[4]: variables[4], \n",
    "                        variable_names[5]: variables[5],\n",
    "                        variable_names[6]: variables[6], \n",
    "                        variable_names[7]: additional_principle, \n",
    "                        variable_names[8]: variables[8], \n",
    "                        variable_names[9]: variables[9], \n",
    "                        variable_names[10]: final_principle}, \n",
    "                        ignore_index = True)                \n",
    "        \n",
    "        starting_principle = final_principle\n",
    "        \n",
    "        yr += 1\n",
    "        \n",
    "    return df\n",
    "    \n",
    "#defines gain through monthly compounding while taking into account additional principle\n",
    "def annual_by_month_compound(variables, starting_principle, additional_principle, debit): #interest rate compounded monthly for one year\n",
    "    mpr = variables[5]/1200 # APR divided by 12 to get monthly interest rate\n",
    "    #print('mpr = ', mpr)\n",
    "    month = 1    \n",
    "    new_principle = starting_principle\n",
    "    #print('new_principle = ', new_principle, '\\n')\n",
    "    while month < 13:\n",
    "        gain_from_interest_on_principle = new_principle * mpr\n",
    "        #print('gain_from_interest_on_principle =', gain_from_interest_on_principle)\n",
    "        new_principle = new_principle + gain_from_interest_on_principle + additional_principle/12 + debit/12\n",
    "        month += 1\n",
    "        new_principle = float(new_principle)\n",
    "    return new_principle, variables[5]\n",
    "\n"
   ]
  },
  {
   "cell_type": "code",
   "execution_count": 71,
   "metadata": {
    "scrolled": true
   },
   "outputs": [
    {
     "name": "stdout",
     "output_type": "stream",
     "text": [
      "In how many years do you plan to retire? 10\n",
      "How much per year will you need at retirement? 50\n",
      "How much have you saved for retirement right now? [in thousands]100\n",
      "How much Social Security benefits per year will you get at retirement? 15\n",
      "How much other passive income per year will you get at retirement? 12\n",
      "What is the annualized percent return on your retirement saving before retiring? 15\n",
      "How long will you need retirement income? [press enter if you want 20 yrs.]\n",
      "Based on your input you will need your retirement income for  20.0 years.\n",
      "How much will you be adding to your retirement savings per year before retiring? 12\n",
      "What is the inflation rate per year? [press enter if you want 3%.]\n",
      "Based on your input the inflation rate is 3.0 %.\n",
      "Based on what you will need, what will be your tax rate? [press enter if you want to assume 25% for both state and federal taxes.]\n",
      "Based on your input your overall income tax rate is 25.0 %.\n"
     ]
    },
    {
     "ename": "TypeError",
     "evalue": "Expected tuple, got str",
     "output_type": "error",
     "traceback": [
      "\u001b[1;31m---------------------------------------------------------------------------\u001b[0m",
      "\u001b[1;31mTypeError\u001b[0m                                 Traceback (most recent call last)",
      "\u001b[1;32m<ipython-input-71-120d40b748f9>\u001b[0m in \u001b[0;36m<module>\u001b[1;34m\u001b[0m\n\u001b[0;32m      5\u001b[0m \u001b[0mdf\u001b[0m\u001b[1;33m,\u001b[0m \u001b[0mvariables\u001b[0m\u001b[1;33m,\u001b[0m \u001b[0mvariable_names\u001b[0m \u001b[1;33m=\u001b[0m \u001b[0minit_df\u001b[0m\u001b[1;33m(\u001b[0m\u001b[1;33m)\u001b[0m\u001b[1;33m\u001b[0m\u001b[1;33m\u001b[0m\u001b[0m\n\u001b[0;32m      6\u001b[0m \u001b[1;33m\u001b[0m\u001b[0m\n\u001b[1;32m----> 7\u001b[1;33m \u001b[0mdf\u001b[0m \u001b[1;33m=\u001b[0m \u001b[0mimpact_years_compounding\u001b[0m\u001b[1;33m(\u001b[0m\u001b[0mvariables\u001b[0m\u001b[1;33m,\u001b[0m \u001b[0mdf\u001b[0m\u001b[1;33m)\u001b[0m\u001b[1;33m\u001b[0m\u001b[1;33m\u001b[0m\u001b[0m\n\u001b[0m\u001b[0;32m      8\u001b[0m \u001b[1;33m\u001b[0m\u001b[0m\n\u001b[0;32m      9\u001b[0m \u001b[0mprint\u001b[0m\u001b[1;33m(\u001b[0m\u001b[0mdf\u001b[0m\u001b[1;33m)\u001b[0m\u001b[1;33m\u001b[0m\u001b[1;33m\u001b[0m\u001b[0m\n",
      "\u001b[1;32m<ipython-input-70-5c9a8143fdc2>\u001b[0m in \u001b[0;36mimpact_years_compounding\u001b[1;34m(variables, df)\u001b[0m\n\u001b[0;32m    134\u001b[0m                         \u001b[0mvariable_names\u001b[0m\u001b[1;33m[\u001b[0m\u001b[1;36m9\u001b[0m\u001b[1;33m]\u001b[0m\u001b[1;33m:\u001b[0m \u001b[0mvariables\u001b[0m\u001b[1;33m[\u001b[0m\u001b[1;36m9\u001b[0m\u001b[1;33m]\u001b[0m\u001b[1;33m,\u001b[0m\u001b[1;33m\u001b[0m\u001b[1;33m\u001b[0m\u001b[0m\n\u001b[0;32m    135\u001b[0m                         variable_names[10]: final_principle}, \n\u001b[1;32m--> 136\u001b[1;33m                         ignore_index = True)                \n\u001b[0m\u001b[0;32m    137\u001b[0m \u001b[1;33m\u001b[0m\u001b[0m\n\u001b[0;32m    138\u001b[0m         \u001b[0mstarting_principle\u001b[0m \u001b[1;33m=\u001b[0m \u001b[0mfinal_principle\u001b[0m\u001b[1;33m\u001b[0m\u001b[1;33m\u001b[0m\u001b[0m\n",
      "\u001b[1;32m~\\AppData\\Roaming\\Python\\Python37\\site-packages\\pandas\\core\\frame.py\u001b[0m in \u001b[0;36mappend\u001b[1;34m(self, other, ignore_index, verify_integrity, sort)\u001b[0m\n\u001b[0;32m   7964\u001b[0m             )\n\u001b[0;32m   7965\u001b[0m             \u001b[1;32mif\u001b[0m \u001b[1;32mnot\u001b[0m \u001b[0mself\u001b[0m\u001b[1;33m.\u001b[0m\u001b[0mcolumns\u001b[0m\u001b[1;33m.\u001b[0m\u001b[0mequals\u001b[0m\u001b[1;33m(\u001b[0m\u001b[0mcombined_columns\u001b[0m\u001b[1;33m)\u001b[0m\u001b[1;33m:\u001b[0m\u001b[1;33m\u001b[0m\u001b[1;33m\u001b[0m\u001b[0m\n\u001b[1;32m-> 7966\u001b[1;33m                 \u001b[0mself\u001b[0m \u001b[1;33m=\u001b[0m \u001b[0mself\u001b[0m\u001b[1;33m.\u001b[0m\u001b[0mreindex\u001b[0m\u001b[1;33m(\u001b[0m\u001b[0mcolumns\u001b[0m\u001b[1;33m=\u001b[0m\u001b[0mcombined_columns\u001b[0m\u001b[1;33m)\u001b[0m\u001b[1;33m\u001b[0m\u001b[1;33m\u001b[0m\u001b[0m\n\u001b[0m\u001b[0;32m   7967\u001b[0m         \u001b[1;32melif\u001b[0m \u001b[0misinstance\u001b[0m\u001b[1;33m(\u001b[0m\u001b[0mother\u001b[0m\u001b[1;33m,\u001b[0m \u001b[0mlist\u001b[0m\u001b[1;33m)\u001b[0m\u001b[1;33m:\u001b[0m\u001b[1;33m\u001b[0m\u001b[1;33m\u001b[0m\u001b[0m\n\u001b[0;32m   7968\u001b[0m             \u001b[1;32mif\u001b[0m \u001b[1;32mnot\u001b[0m \u001b[0mother\u001b[0m\u001b[1;33m:\u001b[0m\u001b[1;33m\u001b[0m\u001b[1;33m\u001b[0m\u001b[0m\n",
      "\u001b[1;32m~\\AppData\\Roaming\\Python\\Python37\\site-packages\\pandas\\util\\_decorators.py\u001b[0m in \u001b[0;36mwrapper\u001b[1;34m(*args, **kwargs)\u001b[0m\n\u001b[0;32m    310\u001b[0m         \u001b[1;33m@\u001b[0m\u001b[0mwraps\u001b[0m\u001b[1;33m(\u001b[0m\u001b[0mfunc\u001b[0m\u001b[1;33m)\u001b[0m\u001b[1;33m\u001b[0m\u001b[1;33m\u001b[0m\u001b[0m\n\u001b[0;32m    311\u001b[0m         \u001b[1;32mdef\u001b[0m \u001b[0mwrapper\u001b[0m\u001b[1;33m(\u001b[0m\u001b[1;33m*\u001b[0m\u001b[0margs\u001b[0m\u001b[1;33m,\u001b[0m \u001b[1;33m**\u001b[0m\u001b[0mkwargs\u001b[0m\u001b[1;33m)\u001b[0m \u001b[1;33m->\u001b[0m \u001b[0mCallable\u001b[0m\u001b[1;33m[\u001b[0m\u001b[1;33m...\u001b[0m\u001b[1;33m,\u001b[0m \u001b[0mAny\u001b[0m\u001b[1;33m]\u001b[0m\u001b[1;33m:\u001b[0m\u001b[1;33m\u001b[0m\u001b[1;33m\u001b[0m\u001b[0m\n\u001b[1;32m--> 312\u001b[1;33m             \u001b[1;32mreturn\u001b[0m \u001b[0mfunc\u001b[0m\u001b[1;33m(\u001b[0m\u001b[1;33m*\u001b[0m\u001b[0margs\u001b[0m\u001b[1;33m,\u001b[0m \u001b[1;33m**\u001b[0m\u001b[0mkwargs\u001b[0m\u001b[1;33m)\u001b[0m\u001b[1;33m\u001b[0m\u001b[1;33m\u001b[0m\u001b[0m\n\u001b[0m\u001b[0;32m    313\u001b[0m \u001b[1;33m\u001b[0m\u001b[0m\n\u001b[0;32m    314\u001b[0m         \u001b[0mkind\u001b[0m \u001b[1;33m=\u001b[0m \u001b[0minspect\u001b[0m\u001b[1;33m.\u001b[0m\u001b[0mParameter\u001b[0m\u001b[1;33m.\u001b[0m\u001b[0mPOSITIONAL_OR_KEYWORD\u001b[0m\u001b[1;33m\u001b[0m\u001b[1;33m\u001b[0m\u001b[0m\n",
      "\u001b[1;32m~\\AppData\\Roaming\\Python\\Python37\\site-packages\\pandas\\core\\frame.py\u001b[0m in \u001b[0;36mreindex\u001b[1;34m(self, *args, **kwargs)\u001b[0m\n\u001b[0;32m   4174\u001b[0m         \u001b[0mkwargs\u001b[0m\u001b[1;33m.\u001b[0m\u001b[0mpop\u001b[0m\u001b[1;33m(\u001b[0m\u001b[1;34m\"axis\"\u001b[0m\u001b[1;33m,\u001b[0m \u001b[1;32mNone\u001b[0m\u001b[1;33m)\u001b[0m\u001b[1;33m\u001b[0m\u001b[1;33m\u001b[0m\u001b[0m\n\u001b[0;32m   4175\u001b[0m         \u001b[0mkwargs\u001b[0m\u001b[1;33m.\u001b[0m\u001b[0mpop\u001b[0m\u001b[1;33m(\u001b[0m\u001b[1;34m\"labels\"\u001b[0m\u001b[1;33m,\u001b[0m \u001b[1;32mNone\u001b[0m\u001b[1;33m)\u001b[0m\u001b[1;33m\u001b[0m\u001b[1;33m\u001b[0m\u001b[0m\n\u001b[1;32m-> 4176\u001b[1;33m         \u001b[1;32mreturn\u001b[0m \u001b[0msuper\u001b[0m\u001b[1;33m(\u001b[0m\u001b[1;33m)\u001b[0m\u001b[1;33m.\u001b[0m\u001b[0mreindex\u001b[0m\u001b[1;33m(\u001b[0m\u001b[1;33m**\u001b[0m\u001b[0mkwargs\u001b[0m\u001b[1;33m)\u001b[0m\u001b[1;33m\u001b[0m\u001b[1;33m\u001b[0m\u001b[0m\n\u001b[0m\u001b[0;32m   4177\u001b[0m \u001b[1;33m\u001b[0m\u001b[0m\n\u001b[0;32m   4178\u001b[0m     def drop(\n",
      "\u001b[1;32m~\\AppData\\Roaming\\Python\\Python37\\site-packages\\pandas\\core\\generic.py\u001b[0m in \u001b[0;36mreindex\u001b[1;34m(self, *args, **kwargs)\u001b[0m\n\u001b[0;32m   4810\u001b[0m         \u001b[1;31m# perform the reindex on the axes\u001b[0m\u001b[1;33m\u001b[0m\u001b[1;33m\u001b[0m\u001b[1;33m\u001b[0m\u001b[0m\n\u001b[0;32m   4811\u001b[0m         return self._reindex_axes(\n\u001b[1;32m-> 4812\u001b[1;33m             \u001b[0maxes\u001b[0m\u001b[1;33m,\u001b[0m \u001b[0mlevel\u001b[0m\u001b[1;33m,\u001b[0m \u001b[0mlimit\u001b[0m\u001b[1;33m,\u001b[0m \u001b[0mtolerance\u001b[0m\u001b[1;33m,\u001b[0m \u001b[0mmethod\u001b[0m\u001b[1;33m,\u001b[0m \u001b[0mfill_value\u001b[0m\u001b[1;33m,\u001b[0m \u001b[0mcopy\u001b[0m\u001b[1;33m\u001b[0m\u001b[1;33m\u001b[0m\u001b[0m\n\u001b[0m\u001b[0;32m   4813\u001b[0m         ).__finalize__(self, method=\"reindex\")\n\u001b[0;32m   4814\u001b[0m \u001b[1;33m\u001b[0m\u001b[0m\n",
      "\u001b[1;32m~\\AppData\\Roaming\\Python\\Python37\\site-packages\\pandas\\core\\frame.py\u001b[0m in \u001b[0;36m_reindex_axes\u001b[1;34m(self, axes, level, limit, tolerance, method, fill_value, copy)\u001b[0m\n\u001b[0;32m   4015\u001b[0m         \u001b[1;32mif\u001b[0m \u001b[0mcolumns\u001b[0m \u001b[1;32mis\u001b[0m \u001b[1;32mnot\u001b[0m \u001b[1;32mNone\u001b[0m\u001b[1;33m:\u001b[0m\u001b[1;33m\u001b[0m\u001b[1;33m\u001b[0m\u001b[0m\n\u001b[0;32m   4016\u001b[0m             frame = frame._reindex_columns(\n\u001b[1;32m-> 4017\u001b[1;33m                 \u001b[0mcolumns\u001b[0m\u001b[1;33m,\u001b[0m \u001b[0mmethod\u001b[0m\u001b[1;33m,\u001b[0m \u001b[0mcopy\u001b[0m\u001b[1;33m,\u001b[0m \u001b[0mlevel\u001b[0m\u001b[1;33m,\u001b[0m \u001b[0mfill_value\u001b[0m\u001b[1;33m,\u001b[0m \u001b[0mlimit\u001b[0m\u001b[1;33m,\u001b[0m \u001b[0mtolerance\u001b[0m\u001b[1;33m\u001b[0m\u001b[1;33m\u001b[0m\u001b[0m\n\u001b[0m\u001b[0;32m   4018\u001b[0m             )\n\u001b[0;32m   4019\u001b[0m \u001b[1;33m\u001b[0m\u001b[0m\n",
      "\u001b[1;32m~\\AppData\\Roaming\\Python\\Python37\\site-packages\\pandas\\core\\frame.py\u001b[0m in \u001b[0;36m_reindex_columns\u001b[1;34m(self, new_columns, method, copy, level, fill_value, limit, tolerance)\u001b[0m\n\u001b[0;32m   4057\u001b[0m     ):\n\u001b[0;32m   4058\u001b[0m         new_columns, indexer = self.columns.reindex(\n\u001b[1;32m-> 4059\u001b[1;33m             \u001b[0mnew_columns\u001b[0m\u001b[1;33m,\u001b[0m \u001b[0mmethod\u001b[0m\u001b[1;33m=\u001b[0m\u001b[0mmethod\u001b[0m\u001b[1;33m,\u001b[0m \u001b[0mlevel\u001b[0m\u001b[1;33m=\u001b[0m\u001b[0mlevel\u001b[0m\u001b[1;33m,\u001b[0m \u001b[0mlimit\u001b[0m\u001b[1;33m=\u001b[0m\u001b[0mlimit\u001b[0m\u001b[1;33m,\u001b[0m \u001b[0mtolerance\u001b[0m\u001b[1;33m=\u001b[0m\u001b[0mtolerance\u001b[0m\u001b[1;33m\u001b[0m\u001b[1;33m\u001b[0m\u001b[0m\n\u001b[0m\u001b[0;32m   4060\u001b[0m         )\n\u001b[0;32m   4061\u001b[0m         return self._reindex_with_indexers(\n",
      "\u001b[1;32m~\\AppData\\Roaming\\Python\\Python37\\site-packages\\pandas\\core\\indexes\\multi.py\u001b[0m in \u001b[0;36mreindex\u001b[1;34m(self, target, method, level, limit, tolerance)\u001b[0m\n\u001b[0;32m   2490\u001b[0m             \u001b[1;32melse\u001b[0m\u001b[1;33m:\u001b[0m\u001b[1;33m\u001b[0m\u001b[1;33m\u001b[0m\u001b[0m\n\u001b[0;32m   2491\u001b[0m                 \u001b[1;31m# hopefully?\u001b[0m\u001b[1;33m\u001b[0m\u001b[1;33m\u001b[0m\u001b[1;33m\u001b[0m\u001b[0m\n\u001b[1;32m-> 2492\u001b[1;33m                 \u001b[0mtarget\u001b[0m \u001b[1;33m=\u001b[0m \u001b[0mMultiIndex\u001b[0m\u001b[1;33m.\u001b[0m\u001b[0mfrom_tuples\u001b[0m\u001b[1;33m(\u001b[0m\u001b[0mtarget\u001b[0m\u001b[1;33m)\u001b[0m\u001b[1;33m\u001b[0m\u001b[1;33m\u001b[0m\u001b[0m\n\u001b[0m\u001b[0;32m   2493\u001b[0m \u001b[1;33m\u001b[0m\u001b[0m\n\u001b[0;32m   2494\u001b[0m         if (\n",
      "\u001b[1;32m~\\AppData\\Roaming\\Python\\Python37\\site-packages\\pandas\\core\\indexes\\multi.py\u001b[0m in \u001b[0;36mnew_meth\u001b[1;34m(self_or_cls, *args, **kwargs)\u001b[0m\n\u001b[0;32m    173\u001b[0m             \u001b[0mkwargs\u001b[0m\u001b[1;33m[\u001b[0m\u001b[1;34m\"names\"\u001b[0m\u001b[1;33m]\u001b[0m \u001b[1;33m=\u001b[0m \u001b[0mkwargs\u001b[0m\u001b[1;33m.\u001b[0m\u001b[0mpop\u001b[0m\u001b[1;33m(\u001b[0m\u001b[1;34m\"name\"\u001b[0m\u001b[1;33m)\u001b[0m\u001b[1;33m\u001b[0m\u001b[1;33m\u001b[0m\u001b[0m\n\u001b[0;32m    174\u001b[0m \u001b[1;33m\u001b[0m\u001b[0m\n\u001b[1;32m--> 175\u001b[1;33m         \u001b[1;32mreturn\u001b[0m \u001b[0mmeth\u001b[0m\u001b[1;33m(\u001b[0m\u001b[0mself_or_cls\u001b[0m\u001b[1;33m,\u001b[0m \u001b[1;33m*\u001b[0m\u001b[0margs\u001b[0m\u001b[1;33m,\u001b[0m \u001b[1;33m**\u001b[0m\u001b[0mkwargs\u001b[0m\u001b[1;33m)\u001b[0m\u001b[1;33m\u001b[0m\u001b[1;33m\u001b[0m\u001b[0m\n\u001b[0m\u001b[0;32m    176\u001b[0m \u001b[1;33m\u001b[0m\u001b[0m\n\u001b[0;32m    177\u001b[0m     \u001b[1;32mreturn\u001b[0m \u001b[0mnew_meth\u001b[0m\u001b[1;33m\u001b[0m\u001b[1;33m\u001b[0m\u001b[0m\n",
      "\u001b[1;32m~\\AppData\\Roaming\\Python\\Python37\\site-packages\\pandas\\core\\indexes\\multi.py\u001b[0m in \u001b[0;36mfrom_tuples\u001b[1;34m(cls, tuples, sortorder, names)\u001b[0m\n\u001b[0;32m    529\u001b[0m                 \u001b[0mtuples\u001b[0m \u001b[1;33m=\u001b[0m \u001b[0mtuples\u001b[0m\u001b[1;33m.\u001b[0m\u001b[0m_values\u001b[0m\u001b[1;33m\u001b[0m\u001b[1;33m\u001b[0m\u001b[0m\n\u001b[0;32m    530\u001b[0m \u001b[1;33m\u001b[0m\u001b[0m\n\u001b[1;32m--> 531\u001b[1;33m             \u001b[0marrays\u001b[0m \u001b[1;33m=\u001b[0m \u001b[0mlist\u001b[0m\u001b[1;33m(\u001b[0m\u001b[0mlib\u001b[0m\u001b[1;33m.\u001b[0m\u001b[0mtuples_to_object_array\u001b[0m\u001b[1;33m(\u001b[0m\u001b[0mtuples\u001b[0m\u001b[1;33m)\u001b[0m\u001b[1;33m.\u001b[0m\u001b[0mT\u001b[0m\u001b[1;33m)\u001b[0m\u001b[1;33m\u001b[0m\u001b[1;33m\u001b[0m\u001b[0m\n\u001b[0m\u001b[0;32m    532\u001b[0m         \u001b[1;32melif\u001b[0m \u001b[0misinstance\u001b[0m\u001b[1;33m(\u001b[0m\u001b[0mtuples\u001b[0m\u001b[1;33m,\u001b[0m \u001b[0mlist\u001b[0m\u001b[1;33m)\u001b[0m\u001b[1;33m:\u001b[0m\u001b[1;33m\u001b[0m\u001b[1;33m\u001b[0m\u001b[0m\n\u001b[0;32m    533\u001b[0m             \u001b[0marrays\u001b[0m \u001b[1;33m=\u001b[0m \u001b[0mlist\u001b[0m\u001b[1;33m(\u001b[0m\u001b[0mlib\u001b[0m\u001b[1;33m.\u001b[0m\u001b[0mto_object_array_tuples\u001b[0m\u001b[1;33m(\u001b[0m\u001b[0mtuples\u001b[0m\u001b[1;33m)\u001b[0m\u001b[1;33m.\u001b[0m\u001b[0mT\u001b[0m\u001b[1;33m)\u001b[0m\u001b[1;33m\u001b[0m\u001b[1;33m\u001b[0m\u001b[0m\n",
      "\u001b[1;32mpandas\\_libs\\lib.pyx\u001b[0m in \u001b[0;36mpandas._libs.lib.tuples_to_object_array\u001b[1;34m()\u001b[0m\n",
      "\u001b[1;31mTypeError\u001b[0m: Expected tuple, got str"
     ]
    }
   ],
   "source": [
    "#########################################\n",
    "# MAIN #\n",
    "#########################################\n",
    "\n",
    "df, variables, variable_names = init_df()\n",
    "\n",
    "df = impact_years_compounding(variables, df)\n",
    "\n",
    "print(df)"
   ]
  },
  {
   "cell_type": "code",
   "execution_count": 28,
   "metadata": {},
   "outputs": [
    {
     "name": "stdout",
     "output_type": "stream",
     "text": [
      "In how many years do you plan to retire? 5\n",
      "How much per year will you need at retirement? 5\n",
      "How much have you saved for retirement right now? [in thousands]5\n",
      "How much Social Security benefits will you get at retirement? 5\n",
      "How much other passive income will you get at retirement? 5\n",
      "What is the annualized percent return on your retirement saving before retiring? 5\n",
      "How long will you need retirement income? [press enter if you want 20 yrs.]\n",
      "Based on your input you will need your retirement income for  20.0 years.\n",
      "How much will you be adding to your retirement savings per year before retiring? 0\n",
      "What is the inflation rate? [press enter if you want 3%.]0\n",
      "Based on your input the inflation rate is 3.0 %.\n"
     ]
    },
    {
     "data": {
      "text/plain": [
       "[5, 5.0, 5.0, '5', 5.0, 5.0, 20.0, 0.0, 3.0]"
      ]
     },
     "execution_count": 28,
     "metadata": {},
     "output_type": "execute_result"
    }
   ],
   "source": [
    "var_input()"
   ]
  },
  {
   "cell_type": "code",
   "execution_count": null,
   "metadata": {},
   "outputs": [],
   "source": []
  },
  {
   "cell_type": "code",
   "execution_count": 66,
   "metadata": {},
   "outputs": [
    {
     "name": "stdout",
     "output_type": "stream",
     "text": [
      "  years_to_retire  b\n",
      "0               5  6\n"
     ]
    }
   ],
   "source": [
    " \n",
    "df = pd.DataFrame(columns =['years_to_retire', 'b'])\n",
    "\n",
    "variables = [5, 6]\n",
    "    \n",
    "\n",
    "    \n",
    "df = df.append({'years_to_retire': variables[0],\n",
    "               'b': variables[1]}, ignore_index = True) \n",
    "\n",
    "print (df)\n",
    "                         "
   ]
  },
  {
   "cell_type": "code",
   "execution_count": null,
   "metadata": {},
   "outputs": [],
   "source": []
  },
  {
   "cell_type": "code",
   "execution_count": 75,
   "metadata": {},
   "outputs": [
    {
     "name": "stdout",
     "output_type": "stream",
     "text": [
      "  years_to_retire how_much_needed_at_retirement starting_principle  \\\n",
      "0               1                             1                  1   \n",
      "\n",
      "  how_much_ss_at_retirement how_much_other_passive_income investment_apr  \\\n",
      "0                         1                             1              1   \n",
      "\n",
      "  yrs_to_death additional_principle inflation tax_rate final_principle  \n",
      "0            1                    1         1        1               1  \n"
     ]
    }
   ],
   "source": [
    "\n",
    "years_to_retire = 1\n",
    "how_much_needed_at_retirement = 1\n",
    "starting_principle = 1\n",
    "how_much_ss_at_retirement = 1 \n",
    "how_much_other_passive_income = 1\n",
    "investment_apr = 1\n",
    "yrs_to_death = 1\n",
    "additional_principle = 1 \n",
    "inflation = 1\n",
    "tax_rate = 1\n",
    "final_principle = 1\n",
    "\n",
    "debit = 1\n",
    "additional_principle = 1\n",
    "final_principle = 1\n",
    "\n",
    "variables = [years_to_retire, how_much_needed_at_retirement, starting_principle,\n",
    "            how_much_ss_at_retirement, how_much_other_passive_income, investment_apr,\n",
    "            yrs_to_death, additional_principle, inflation, tax_rate, final_principle]\n",
    "    \n",
    "variable_names = ['years_to_retire', 'how_much_needed_at_retirement', 'starting_principle',\n",
    "                 'how_much_ss_at_retirement', 'how_much_other_passive_income', 'investment_apr',\n",
    "                 'yrs_to_death', 'additional_principle', 'inflation', 'tax_rate', \n",
    "                 'final_principle']\n",
    "\n",
    "\n",
    "df = pd.DataFrame(columns = variable_names)\n",
    "        \n",
    "    \n",
    "    \n",
    "df = df.append({'years_to_retire': variables[0], \n",
    "                        'how_much_needed_at_retirement' : debit, \n",
    "                        'starting_principle': variables[2],\n",
    "                        'how_much_ss_at_retirement': variables[3], \n",
    "                        'how_much_other_passive_income': variables[4], \n",
    "                        'investment_apr': variables[5],\n",
    "                        'yrs_to_death': variables[6], \n",
    "                        'additional_principle': additional_principle, \n",
    "                        'inflation': variables[8], \n",
    "                        'tax_rate': variables[9], \n",
    "                        'final_principle': final_principle}, \n",
    "                        ignore_index = True)    \n",
    "\n",
    "print(df)"
   ]
  },
  {
   "cell_type": "code",
   "execution_count": null,
   "metadata": {},
   "outputs": [],
   "source": []
  },
  {
   "cell_type": "code",
   "execution_count": null,
   "metadata": {},
   "outputs": [],
   "source": []
  },
  {
   "cell_type": "code",
   "execution_count": null,
   "metadata": {},
   "outputs": [],
   "source": []
  },
  {
   "cell_type": "code",
   "execution_count": null,
   "metadata": {},
   "outputs": [],
   "source": []
  },
  {
   "cell_type": "code",
   "execution_count": null,
   "metadata": {},
   "outputs": [],
   "source": [
    "df = pd.DataFrame(columns= ['APR', 'Years', 'Starting Balance', 'Ending Balance'])\n",
    "list(df.columns)"
   ]
  },
  {
   "cell_type": "code",
   "execution_count": null,
   "metadata": {},
   "outputs": [],
   "source": []
  },
  {
   "cell_type": "code",
   "execution_count": null,
   "metadata": {},
   "outputs": [],
   "source": []
  },
  {
   "cell_type": "code",
   "execution_count": null,
   "metadata": {},
   "outputs": [],
   "source": []
  },
  {
   "cell_type": "code",
   "execution_count": null,
   "metadata": {},
   "outputs": [],
   "source": []
  },
  {
   "cell_type": "code",
   "execution_count": null,
   "metadata": {},
   "outputs": [],
   "source": []
  },
  {
   "cell_type": "code",
   "execution_count": null,
   "metadata": {},
   "outputs": [],
   "source": [
    "i = 0\n",
    "\n",
    "while i < 5:\n",
    "        \n",
    "    APR = i\n",
    "    Years = i\n",
    "    S = i\n",
    "    B = i \n",
    "    \n",
    "    df = df.append({'APR': APR, 'Years': Years, 'Starting Balance': S, 'Ending Balance': B} , ignore_index = True)\n",
    "\n",
    "    i += 1\n",
    "        \n",
    "print(df)"
   ]
  },
  {
   "cell_type": "code",
   "execution_count": null,
   "metadata": {},
   "outputs": [],
   "source": [
    "print(df)"
   ]
  },
  {
   "cell_type": "code",
   "execution_count": null,
   "metadata": {},
   "outputs": [],
   "source": [
    "df = pd.DataFrame(columns=['A'])\n",
    "for i in range(5):\n",
    "    df = df.append({'A': i}, ignore_index=True)\n",
    "df"
   ]
  }
 ],
 "metadata": {
  "kernelspec": {
   "display_name": "Python 3",
   "language": "python",
   "name": "python3"
  },
  "language_info": {
   "codemirror_mode": {
    "name": "ipython",
    "version": 3
   },
   "file_extension": ".py",
   "mimetype": "text/x-python",
   "name": "python",
   "nbconvert_exporter": "python",
   "pygments_lexer": "ipython3",
   "version": "3.7.4"
  }
 },
 "nbformat": 4,
 "nbformat_minor": 2
}
